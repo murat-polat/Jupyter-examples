{
 "cells": [
  {
   "cell_type": "code",
   "execution_count": 2,
   "metadata": {},
   "outputs": [
    {
     "data": {
      "text/html": [
       "<div>\n",
       "<style scoped>\n",
       "    .dataframe tbody tr th:only-of-type {\n",
       "        vertical-align: middle;\n",
       "    }\n",
       "\n",
       "    .dataframe tbody tr th {\n",
       "        vertical-align: top;\n",
       "    }\n",
       "\n",
       "    .dataframe thead th {\n",
       "        text-align: right;\n",
       "    }\n",
       "</style>\n",
       "<table border=\"1\" class=\"dataframe\">\n",
       "  <thead>\n",
       "    <tr style=\"text-align: right;\">\n",
       "      <th></th>\n",
       "      <th>VAR</th>\n",
       "      <th>Variable</th>\n",
       "      <th>UNIT</th>\n",
       "      <th>Measure</th>\n",
       "      <th>COU</th>\n",
       "      <th>Country</th>\n",
       "      <th>YEA</th>\n",
       "      <th>Year</th>\n",
       "      <th>Value</th>\n",
       "      <th>Flag Codes</th>\n",
       "      <th>Flags</th>\n",
       "    </tr>\n",
       "  </thead>\n",
       "  <tbody>\n",
       "    <tr>\n",
       "      <th>0</th>\n",
       "      <td>CANCTOCA</td>\n",
       "      <td>Malignant neoplasms</td>\n",
       "      <td>PERCMTTX</td>\n",
       "      <td>Incidence per 100 000 population</td>\n",
       "      <td>AUS</td>\n",
       "      <td>Australia</td>\n",
       "      <td>2002</td>\n",
       "      <td>2002</td>\n",
       "      <td>312.0</td>\n",
       "      <td>NaN</td>\n",
       "      <td>NaN</td>\n",
       "    </tr>\n",
       "    <tr>\n",
       "      <th>1</th>\n",
       "      <td>CANCTOCA</td>\n",
       "      <td>Malignant neoplasms</td>\n",
       "      <td>PERCMTTX</td>\n",
       "      <td>Incidence per 100 000 population</td>\n",
       "      <td>AUS</td>\n",
       "      <td>Australia</td>\n",
       "      <td>2008</td>\n",
       "      <td>2008</td>\n",
       "      <td>314.1</td>\n",
       "      <td>NaN</td>\n",
       "      <td>NaN</td>\n",
       "    </tr>\n",
       "    <tr>\n",
       "      <th>2</th>\n",
       "      <td>CANCTOCA</td>\n",
       "      <td>Malignant neoplasms</td>\n",
       "      <td>PERCMTTX</td>\n",
       "      <td>Incidence per 100 000 population</td>\n",
       "      <td>AUS</td>\n",
       "      <td>Australia</td>\n",
       "      <td>2012</td>\n",
       "      <td>2012</td>\n",
       "      <td>323.0</td>\n",
       "      <td>NaN</td>\n",
       "      <td>NaN</td>\n",
       "    </tr>\n",
       "    <tr>\n",
       "      <th>3</th>\n",
       "      <td>CANCCOLC</td>\n",
       "      <td>Malignant neoplasms of colon</td>\n",
       "      <td>PERCMTTX</td>\n",
       "      <td>Incidence per 100 000 population</td>\n",
       "      <td>AUS</td>\n",
       "      <td>Australia</td>\n",
       "      <td>2002</td>\n",
       "      <td>2002</td>\n",
       "      <td>41.7</td>\n",
       "      <td>NaN</td>\n",
       "      <td>NaN</td>\n",
       "    </tr>\n",
       "    <tr>\n",
       "      <th>4</th>\n",
       "      <td>CANCCOLC</td>\n",
       "      <td>Malignant neoplasms of colon</td>\n",
       "      <td>PERCMTTX</td>\n",
       "      <td>Incidence per 100 000 population</td>\n",
       "      <td>AUS</td>\n",
       "      <td>Australia</td>\n",
       "      <td>2008</td>\n",
       "      <td>2008</td>\n",
       "      <td>38.7</td>\n",
       "      <td>NaN</td>\n",
       "      <td>NaN</td>\n",
       "    </tr>\n",
       "  </tbody>\n",
       "</table>\n",
       "</div>"
      ],
      "text/plain": [
       "        VAR                      Variable      UNIT  \\\n",
       "0  CANCTOCA           Malignant neoplasms  PERCMTTX   \n",
       "1  CANCTOCA           Malignant neoplasms  PERCMTTX   \n",
       "2  CANCTOCA           Malignant neoplasms  PERCMTTX   \n",
       "3  CANCCOLC  Malignant neoplasms of colon  PERCMTTX   \n",
       "4  CANCCOLC  Malignant neoplasms of colon  PERCMTTX   \n",
       "\n",
       "                            Measure  COU    Country   YEA  Year  Value  \\\n",
       "0  Incidence per 100 000 population  AUS  Australia  2002  2002  312.0   \n",
       "1  Incidence per 100 000 population  AUS  Australia  2008  2008  314.1   \n",
       "2  Incidence per 100 000 population  AUS  Australia  2012  2012  323.0   \n",
       "3  Incidence per 100 000 population  AUS  Australia  2002  2002   41.7   \n",
       "4  Incidence per 100 000 population  AUS  Australia  2008  2008   38.7   \n",
       "\n",
       "   Flag Codes  Flags  \n",
       "0         NaN    NaN  \n",
       "1         NaN    NaN  \n",
       "2         NaN    NaN  \n",
       "3         NaN    NaN  \n",
       "4         NaN    NaN  "
      ]
     },
     "execution_count": 2,
     "metadata": {},
     "output_type": "execute_result"
    }
   ],
   "source": [
    "import pandas as pd \n",
    "import numpy as np\n",
    "cancer = pd.read_csv('HEALTH_STAT_03092020141011281.csv')\n",
    "cancer.head()\n"
   ]
  },
  {
   "cell_type": "code",
   "execution_count": 3,
   "metadata": {},
   "outputs": [
    {
     "data": {
      "text/plain": [
       "Index(['VAR', 'Variable', 'UNIT', 'Measure', 'COU', 'Country', 'YEA', 'Year',\n",
       "       'Value', 'Flag Codes', 'Flags'],\n",
       "      dtype='object')"
      ]
     },
     "execution_count": 3,
     "metadata": {},
     "output_type": "execute_result"
    }
   ],
   "source": [
    "cancer.columns"
   ]
  },
  {
   "cell_type": "code",
   "execution_count": 4,
   "metadata": {},
   "outputs": [],
   "source": [
    "my_data=cancer[['Country','Variable','Year','Value']]"
   ]
  },
  {
   "cell_type": "code",
   "execution_count": 5,
   "metadata": {},
   "outputs": [
    {
     "data": {
      "text/html": [
       "<div>\n",
       "<style scoped>\n",
       "    .dataframe tbody tr th:only-of-type {\n",
       "        vertical-align: middle;\n",
       "    }\n",
       "\n",
       "    .dataframe tbody tr th {\n",
       "        vertical-align: top;\n",
       "    }\n",
       "\n",
       "    .dataframe thead th {\n",
       "        text-align: right;\n",
       "    }\n",
       "</style>\n",
       "<table border=\"1\" class=\"dataframe\">\n",
       "  <thead>\n",
       "    <tr style=\"text-align: right;\">\n",
       "      <th></th>\n",
       "      <th>Country</th>\n",
       "      <th>Variable</th>\n",
       "      <th>Year</th>\n",
       "      <th>Value</th>\n",
       "    </tr>\n",
       "  </thead>\n",
       "  <tbody>\n",
       "    <tr>\n",
       "      <th>0</th>\n",
       "      <td>Australia</td>\n",
       "      <td>Malignant neoplasms</td>\n",
       "      <td>2002</td>\n",
       "      <td>312.0</td>\n",
       "    </tr>\n",
       "    <tr>\n",
       "      <th>1</th>\n",
       "      <td>Australia</td>\n",
       "      <td>Malignant neoplasms</td>\n",
       "      <td>2008</td>\n",
       "      <td>314.1</td>\n",
       "    </tr>\n",
       "    <tr>\n",
       "      <th>2</th>\n",
       "      <td>Australia</td>\n",
       "      <td>Malignant neoplasms</td>\n",
       "      <td>2012</td>\n",
       "      <td>323.0</td>\n",
       "    </tr>\n",
       "    <tr>\n",
       "      <th>3</th>\n",
       "      <td>Australia</td>\n",
       "      <td>Malignant neoplasms of colon</td>\n",
       "      <td>2002</td>\n",
       "      <td>41.7</td>\n",
       "    </tr>\n",
       "    <tr>\n",
       "      <th>4</th>\n",
       "      <td>Australia</td>\n",
       "      <td>Malignant neoplasms of colon</td>\n",
       "      <td>2008</td>\n",
       "      <td>38.7</td>\n",
       "    </tr>\n",
       "    <tr>\n",
       "      <th>...</th>\n",
       "      <td>...</td>\n",
       "      <td>...</td>\n",
       "      <td>...</td>\n",
       "      <td>...</td>\n",
       "    </tr>\n",
       "    <tr>\n",
       "      <th>2971</th>\n",
       "      <td>Colombia</td>\n",
       "      <td>Malignant neoplasms of colon</td>\n",
       "      <td>2012</td>\n",
       "      <td>5663.0</td>\n",
       "    </tr>\n",
       "    <tr>\n",
       "      <th>2972</th>\n",
       "      <td>Lithuania</td>\n",
       "      <td>Malignant neoplasms of lung</td>\n",
       "      <td>2012</td>\n",
       "      <td>26.2</td>\n",
       "    </tr>\n",
       "    <tr>\n",
       "      <th>2973</th>\n",
       "      <td>Lithuania</td>\n",
       "      <td>Malignant neoplasms of colon</td>\n",
       "      <td>2012</td>\n",
       "      <td>18.9</td>\n",
       "    </tr>\n",
       "    <tr>\n",
       "      <th>2974</th>\n",
       "      <td>Lithuania</td>\n",
       "      <td>Malignant neoplasms of cervix</td>\n",
       "      <td>2012</td>\n",
       "      <td>615.0</td>\n",
       "    </tr>\n",
       "    <tr>\n",
       "      <th>2975</th>\n",
       "      <td>Costa Rica</td>\n",
       "      <td>Malignant neoplasms of lung</td>\n",
       "      <td>2012</td>\n",
       "      <td>9.8</td>\n",
       "    </tr>\n",
       "  </tbody>\n",
       "</table>\n",
       "<p>2976 rows × 4 columns</p>\n",
       "</div>"
      ],
      "text/plain": [
       "         Country                       Variable  Year   Value\n",
       "0      Australia            Malignant neoplasms  2002   312.0\n",
       "1      Australia            Malignant neoplasms  2008   314.1\n",
       "2      Australia            Malignant neoplasms  2012   323.0\n",
       "3      Australia   Malignant neoplasms of colon  2002    41.7\n",
       "4      Australia   Malignant neoplasms of colon  2008    38.7\n",
       "...          ...                            ...   ...     ...\n",
       "2971    Colombia   Malignant neoplasms of colon  2012  5663.0\n",
       "2972   Lithuania    Malignant neoplasms of lung  2012    26.2\n",
       "2973   Lithuania   Malignant neoplasms of colon  2012    18.9\n",
       "2974   Lithuania  Malignant neoplasms of cervix  2012   615.0\n",
       "2975  Costa Rica    Malignant neoplasms of lung  2012     9.8\n",
       "\n",
       "[2976 rows x 4 columns]"
      ]
     },
     "execution_count": 5,
     "metadata": {},
     "output_type": "execute_result"
    }
   ],
   "source": [
    "my_data"
   ]
  },
  {
   "cell_type": "code",
   "execution_count": 6,
   "metadata": {},
   "outputs": [],
   "source": [
    "##      iloc   => IntegerLocations\n",
    "##      cancer.iloc[0]\n",
    "##      loc   =>     Labels"
   ]
  },
  {
   "cell_type": "code",
   "execution_count": 7,
   "metadata": {},
   "outputs": [
    {
     "data": {
      "text/plain": [
       "Country               Australia\n",
       "Variable    Malignant neoplasms\n",
       "Year                       2002\n",
       "Value                       312\n",
       "Name: 0, dtype: object"
      ]
     },
     "execution_count": 7,
     "metadata": {},
     "output_type": "execute_result"
    }
   ],
   "source": [
    "my_data.iloc[0]"
   ]
  },
  {
   "cell_type": "code",
   "execution_count": 8,
   "metadata": {},
   "outputs": [
    {
     "data": {
      "text/plain": [
       "Country               Australia\n",
       "Variable    Malignant neoplasms\n",
       "Year                       2002\n",
       "Value                       312\n",
       "Name: 0, dtype: object"
      ]
     },
     "execution_count": 8,
     "metadata": {},
     "output_type": "execute_result"
    }
   ],
   "source": [
    "my_data.loc[0]"
   ]
  },
  {
   "cell_type": "code",
   "execution_count": 9,
   "metadata": {},
   "outputs": [
    {
     "data": {
      "text/plain": [
       "0    312.0\n",
       "Name: Value, dtype: float64"
      ]
     },
     "execution_count": 9,
     "metadata": {},
     "output_type": "execute_result"
    }
   ],
   "source": [
    "my_data.loc[[0],'Value']"
   ]
  },
  {
   "cell_type": "code",
   "execution_count": 10,
   "metadata": {},
   "outputs": [
    {
     "data": {
      "text/plain": [
       "(2976, 4)"
      ]
     },
     "execution_count": 10,
     "metadata": {},
     "output_type": "execute_result"
    }
   ],
   "source": [
    "my_data.shape  ## shows how many row and columns"
   ]
  },
  {
   "cell_type": "code",
   "execution_count": 11,
   "metadata": {},
   "outputs": [
    {
     "data": {
      "text/plain": [
       "Index(['VAR', 'Variable', 'UNIT', 'Measure', 'COU', 'Country', 'YEA', 'Year',\n",
       "       'Value', 'Flag Codes', 'Flags'],\n",
       "      dtype='object')"
      ]
     },
     "execution_count": 11,
     "metadata": {},
     "output_type": "execute_result"
    }
   ],
   "source": [
    "cancer.columns"
   ]
  },
  {
   "cell_type": "code",
   "execution_count": 12,
   "metadata": {},
   "outputs": [
    {
     "data": {
      "text/html": [
       "<div>\n",
       "<style scoped>\n",
       "    .dataframe tbody tr th:only-of-type {\n",
       "        vertical-align: middle;\n",
       "    }\n",
       "\n",
       "    .dataframe tbody tr th {\n",
       "        vertical-align: top;\n",
       "    }\n",
       "\n",
       "    .dataframe thead th {\n",
       "        text-align: right;\n",
       "    }\n",
       "</style>\n",
       "<table border=\"1\" class=\"dataframe\">\n",
       "  <thead>\n",
       "    <tr style=\"text-align: right;\">\n",
       "      <th></th>\n",
       "      <th>Variable</th>\n",
       "      <th>Year</th>\n",
       "      <th>Value</th>\n",
       "    </tr>\n",
       "    <tr>\n",
       "      <th>Country</th>\n",
       "      <th></th>\n",
       "      <th></th>\n",
       "      <th></th>\n",
       "    </tr>\n",
       "  </thead>\n",
       "  <tbody>\n",
       "    <tr>\n",
       "      <th>Australia</th>\n",
       "      <td>Malignant neoplasms</td>\n",
       "      <td>2002</td>\n",
       "      <td>312.0</td>\n",
       "    </tr>\n",
       "    <tr>\n",
       "      <th>Australia</th>\n",
       "      <td>Malignant neoplasms</td>\n",
       "      <td>2008</td>\n",
       "      <td>314.1</td>\n",
       "    </tr>\n",
       "    <tr>\n",
       "      <th>Australia</th>\n",
       "      <td>Malignant neoplasms</td>\n",
       "      <td>2012</td>\n",
       "      <td>323.0</td>\n",
       "    </tr>\n",
       "    <tr>\n",
       "      <th>Australia</th>\n",
       "      <td>Malignant neoplasms of colon</td>\n",
       "      <td>2002</td>\n",
       "      <td>41.7</td>\n",
       "    </tr>\n",
       "    <tr>\n",
       "      <th>Australia</th>\n",
       "      <td>Malignant neoplasms of colon</td>\n",
       "      <td>2008</td>\n",
       "      <td>38.7</td>\n",
       "    </tr>\n",
       "    <tr>\n",
       "      <th>...</th>\n",
       "      <td>...</td>\n",
       "      <td>...</td>\n",
       "      <td>...</td>\n",
       "    </tr>\n",
       "    <tr>\n",
       "      <th>Colombia</th>\n",
       "      <td>Malignant neoplasms of colon</td>\n",
       "      <td>2012</td>\n",
       "      <td>5663.0</td>\n",
       "    </tr>\n",
       "    <tr>\n",
       "      <th>Lithuania</th>\n",
       "      <td>Malignant neoplasms of lung</td>\n",
       "      <td>2012</td>\n",
       "      <td>26.2</td>\n",
       "    </tr>\n",
       "    <tr>\n",
       "      <th>Lithuania</th>\n",
       "      <td>Malignant neoplasms of colon</td>\n",
       "      <td>2012</td>\n",
       "      <td>18.9</td>\n",
       "    </tr>\n",
       "    <tr>\n",
       "      <th>Lithuania</th>\n",
       "      <td>Malignant neoplasms of cervix</td>\n",
       "      <td>2012</td>\n",
       "      <td>615.0</td>\n",
       "    </tr>\n",
       "    <tr>\n",
       "      <th>Costa Rica</th>\n",
       "      <td>Malignant neoplasms of lung</td>\n",
       "      <td>2012</td>\n",
       "      <td>9.8</td>\n",
       "    </tr>\n",
       "  </tbody>\n",
       "</table>\n",
       "<p>2976 rows × 3 columns</p>\n",
       "</div>"
      ],
      "text/plain": [
       "                                 Variable  Year   Value\n",
       "Country                                                \n",
       "Australia             Malignant neoplasms  2002   312.0\n",
       "Australia             Malignant neoplasms  2008   314.1\n",
       "Australia             Malignant neoplasms  2012   323.0\n",
       "Australia    Malignant neoplasms of colon  2002    41.7\n",
       "Australia    Malignant neoplasms of colon  2008    38.7\n",
       "...                                   ...   ...     ...\n",
       "Colombia     Malignant neoplasms of colon  2012  5663.0\n",
       "Lithuania     Malignant neoplasms of lung  2012    26.2\n",
       "Lithuania    Malignant neoplasms of colon  2012    18.9\n",
       "Lithuania   Malignant neoplasms of cervix  2012   615.0\n",
       "Costa Rica    Malignant neoplasms of lung  2012     9.8\n",
       "\n",
       "[2976 rows x 3 columns]"
      ]
     },
     "execution_count": 12,
     "metadata": {},
     "output_type": "execute_result"
    }
   ],
   "source": [
    "my_data.set_index('Country')   ### Set index with custom value \n",
    "\n",
    "## my_data.set_index('Country', inplace=True) changes my_data "
   ]
  },
  {
   "cell_type": "code",
   "execution_count": 13,
   "metadata": {},
   "outputs": [
    {
     "data": {
      "text/plain": [
       "RangeIndex(start=0, stop=2976, step=1)"
      ]
     },
     "execution_count": 13,
     "metadata": {},
     "output_type": "execute_result"
    }
   ],
   "source": [
    "my_data.index"
   ]
  },
  {
   "cell_type": "code",
   "execution_count": 18,
   "metadata": {},
   "outputs": [],
   "source": [
    "filt = (my_data['Country'] == 'Norway')"
   ]
  },
  {
   "cell_type": "code",
   "execution_count": 19,
   "metadata": {},
   "outputs": [
    {
     "data": {
      "text/plain": [
       "0       False\n",
       "1       False\n",
       "2       False\n",
       "3       False\n",
       "4       False\n",
       "        ...  \n",
       "2971    False\n",
       "2972    False\n",
       "2973    False\n",
       "2974    False\n",
       "2975    False\n",
       "Name: Country, Length: 2976, dtype: bool"
      ]
     },
     "execution_count": 19,
     "metadata": {},
     "output_type": "execute_result"
    }
   ],
   "source": [
    "filt"
   ]
  },
  {
   "cell_type": "code",
   "execution_count": 21,
   "metadata": {},
   "outputs": [
    {
     "data": {
      "text/html": [
       "<div>\n",
       "<style scoped>\n",
       "    .dataframe tbody tr th:only-of-type {\n",
       "        vertical-align: middle;\n",
       "    }\n",
       "\n",
       "    .dataframe tbody tr th {\n",
       "        vertical-align: top;\n",
       "    }\n",
       "\n",
       "    .dataframe thead th {\n",
       "        text-align: right;\n",
       "    }\n",
       "</style>\n",
       "<table border=\"1\" class=\"dataframe\">\n",
       "  <thead>\n",
       "    <tr style=\"text-align: right;\">\n",
       "      <th></th>\n",
       "      <th>Country</th>\n",
       "      <th>Variable</th>\n",
       "      <th>Year</th>\n",
       "      <th>Value</th>\n",
       "    </tr>\n",
       "  </thead>\n",
       "  <tbody>\n",
       "    <tr>\n",
       "      <th>213</th>\n",
       "      <td>Norway</td>\n",
       "      <td>Malignant neoplasms</td>\n",
       "      <td>2002</td>\n",
       "      <td>286.0</td>\n",
       "    </tr>\n",
       "    <tr>\n",
       "      <th>214</th>\n",
       "      <td>Norway</td>\n",
       "      <td>Malignant neoplasms</td>\n",
       "      <td>2008</td>\n",
       "      <td>297.9</td>\n",
       "    </tr>\n",
       "    <tr>\n",
       "      <th>215</th>\n",
       "      <td>Norway</td>\n",
       "      <td>Malignant neoplasms</td>\n",
       "      <td>2012</td>\n",
       "      <td>318.3</td>\n",
       "    </tr>\n",
       "    <tr>\n",
       "      <th>216</th>\n",
       "      <td>Norway</td>\n",
       "      <td>Malignant neoplasms of colon</td>\n",
       "      <td>2002</td>\n",
       "      <td>40.3</td>\n",
       "    </tr>\n",
       "    <tr>\n",
       "      <th>217</th>\n",
       "      <td>Norway</td>\n",
       "      <td>Malignant neoplasms of colon</td>\n",
       "      <td>2008</td>\n",
       "      <td>37.8</td>\n",
       "    </tr>\n",
       "    <tr>\n",
       "      <th>...</th>\n",
       "      <td>...</td>\n",
       "      <td>...</td>\n",
       "      <td>...</td>\n",
       "      <td>...</td>\n",
       "    </tr>\n",
       "    <tr>\n",
       "      <th>2737</th>\n",
       "      <td>Norway</td>\n",
       "      <td>Malignant neoplasms of colon</td>\n",
       "      <td>2008</td>\n",
       "      <td>3512.0</td>\n",
       "    </tr>\n",
       "    <tr>\n",
       "      <th>2738</th>\n",
       "      <td>Norway</td>\n",
       "      <td>Malignant neoplasms of colon</td>\n",
       "      <td>2012</td>\n",
       "      <td>3913.0</td>\n",
       "    </tr>\n",
       "    <tr>\n",
       "      <th>2739</th>\n",
       "      <td>Norway</td>\n",
       "      <td>Malignant neoplasms of lung</td>\n",
       "      <td>2002</td>\n",
       "      <td>2043.0</td>\n",
       "    </tr>\n",
       "    <tr>\n",
       "      <th>2740</th>\n",
       "      <td>Norway</td>\n",
       "      <td>Malignant neoplasms of lung</td>\n",
       "      <td>2008</td>\n",
       "      <td>2612.0</td>\n",
       "    </tr>\n",
       "    <tr>\n",
       "      <th>2741</th>\n",
       "      <td>Norway</td>\n",
       "      <td>Malignant neoplasms of lung</td>\n",
       "      <td>2012</td>\n",
       "      <td>2845.0</td>\n",
       "    </tr>\n",
       "  </tbody>\n",
       "</table>\n",
       "<p>72 rows × 4 columns</p>\n",
       "</div>"
      ],
      "text/plain": [
       "     Country                      Variable  Year   Value\n",
       "213   Norway           Malignant neoplasms  2002   286.0\n",
       "214   Norway           Malignant neoplasms  2008   297.9\n",
       "215   Norway           Malignant neoplasms  2012   318.3\n",
       "216   Norway  Malignant neoplasms of colon  2002    40.3\n",
       "217   Norway  Malignant neoplasms of colon  2008    37.8\n",
       "...      ...                           ...   ...     ...\n",
       "2737  Norway  Malignant neoplasms of colon  2008  3512.0\n",
       "2738  Norway  Malignant neoplasms of colon  2012  3913.0\n",
       "2739  Norway   Malignant neoplasms of lung  2002  2043.0\n",
       "2740  Norway   Malignant neoplasms of lung  2008  2612.0\n",
       "2741  Norway   Malignant neoplasms of lung  2012  2845.0\n",
       "\n",
       "[72 rows x 4 columns]"
      ]
     },
     "execution_count": 21,
     "metadata": {},
     "output_type": "execute_result"
    }
   ],
   "source": [
    "my_data[filt]"
   ]
  },
  {
   "cell_type": "code",
   "execution_count": 22,
   "metadata": {},
   "outputs": [
    {
     "data": {
      "text/html": [
       "<div>\n",
       "<style scoped>\n",
       "    .dataframe tbody tr th:only-of-type {\n",
       "        vertical-align: middle;\n",
       "    }\n",
       "\n",
       "    .dataframe tbody tr th {\n",
       "        vertical-align: top;\n",
       "    }\n",
       "\n",
       "    .dataframe thead th {\n",
       "        text-align: right;\n",
       "    }\n",
       "</style>\n",
       "<table border=\"1\" class=\"dataframe\">\n",
       "  <thead>\n",
       "    <tr style=\"text-align: right;\">\n",
       "      <th></th>\n",
       "      <th>Country</th>\n",
       "      <th>Variable</th>\n",
       "      <th>Year</th>\n",
       "      <th>Value</th>\n",
       "    </tr>\n",
       "  </thead>\n",
       "  <tbody>\n",
       "    <tr>\n",
       "      <th>213</th>\n",
       "      <td>Norway</td>\n",
       "      <td>Malignant neoplasms</td>\n",
       "      <td>2002</td>\n",
       "      <td>286.0</td>\n",
       "    </tr>\n",
       "    <tr>\n",
       "      <th>214</th>\n",
       "      <td>Norway</td>\n",
       "      <td>Malignant neoplasms</td>\n",
       "      <td>2008</td>\n",
       "      <td>297.9</td>\n",
       "    </tr>\n",
       "    <tr>\n",
       "      <th>215</th>\n",
       "      <td>Norway</td>\n",
       "      <td>Malignant neoplasms</td>\n",
       "      <td>2012</td>\n",
       "      <td>318.3</td>\n",
       "    </tr>\n",
       "    <tr>\n",
       "      <th>216</th>\n",
       "      <td>Norway</td>\n",
       "      <td>Malignant neoplasms of colon</td>\n",
       "      <td>2002</td>\n",
       "      <td>40.3</td>\n",
       "    </tr>\n",
       "    <tr>\n",
       "      <th>217</th>\n",
       "      <td>Norway</td>\n",
       "      <td>Malignant neoplasms of colon</td>\n",
       "      <td>2008</td>\n",
       "      <td>37.8</td>\n",
       "    </tr>\n",
       "    <tr>\n",
       "      <th>...</th>\n",
       "      <td>...</td>\n",
       "      <td>...</td>\n",
       "      <td>...</td>\n",
       "      <td>...</td>\n",
       "    </tr>\n",
       "    <tr>\n",
       "      <th>2737</th>\n",
       "      <td>Norway</td>\n",
       "      <td>Malignant neoplasms of colon</td>\n",
       "      <td>2008</td>\n",
       "      <td>3512.0</td>\n",
       "    </tr>\n",
       "    <tr>\n",
       "      <th>2738</th>\n",
       "      <td>Norway</td>\n",
       "      <td>Malignant neoplasms of colon</td>\n",
       "      <td>2012</td>\n",
       "      <td>3913.0</td>\n",
       "    </tr>\n",
       "    <tr>\n",
       "      <th>2739</th>\n",
       "      <td>Norway</td>\n",
       "      <td>Malignant neoplasms of lung</td>\n",
       "      <td>2002</td>\n",
       "      <td>2043.0</td>\n",
       "    </tr>\n",
       "    <tr>\n",
       "      <th>2740</th>\n",
       "      <td>Norway</td>\n",
       "      <td>Malignant neoplasms of lung</td>\n",
       "      <td>2008</td>\n",
       "      <td>2612.0</td>\n",
       "    </tr>\n",
       "    <tr>\n",
       "      <th>2741</th>\n",
       "      <td>Norway</td>\n",
       "      <td>Malignant neoplasms of lung</td>\n",
       "      <td>2012</td>\n",
       "      <td>2845.0</td>\n",
       "    </tr>\n",
       "  </tbody>\n",
       "</table>\n",
       "<p>72 rows × 4 columns</p>\n",
       "</div>"
      ],
      "text/plain": [
       "     Country                      Variable  Year   Value\n",
       "213   Norway           Malignant neoplasms  2002   286.0\n",
       "214   Norway           Malignant neoplasms  2008   297.9\n",
       "215   Norway           Malignant neoplasms  2012   318.3\n",
       "216   Norway  Malignant neoplasms of colon  2002    40.3\n",
       "217   Norway  Malignant neoplasms of colon  2008    37.8\n",
       "...      ...                           ...   ...     ...\n",
       "2737  Norway  Malignant neoplasms of colon  2008  3512.0\n",
       "2738  Norway  Malignant neoplasms of colon  2012  3913.0\n",
       "2739  Norway   Malignant neoplasms of lung  2002  2043.0\n",
       "2740  Norway   Malignant neoplasms of lung  2008  2612.0\n",
       "2741  Norway   Malignant neoplasms of lung  2012  2845.0\n",
       "\n",
       "[72 rows x 4 columns]"
      ]
     },
     "execution_count": 22,
     "metadata": {},
     "output_type": "execute_result"
    }
   ],
   "source": [
    "my_data.loc[filt]"
   ]
  },
  {
   "cell_type": "code",
   "execution_count": null,
   "metadata": {},
   "outputs": [],
   "source": []
  }
 ],
 "metadata": {
  "kernelspec": {
   "display_name": "Python 3",
   "language": "python",
   "name": "python3"
  },
  "language_info": {
   "codemirror_mode": {
    "name": "ipython",
    "version": 3
   },
   "file_extension": ".py",
   "mimetype": "text/x-python",
   "name": "python",
   "nbconvert_exporter": "python",
   "pygments_lexer": "ipython3",
   "version": "3.8.3"
  }
 },
 "nbformat": 4,
 "nbformat_minor": 4
}
